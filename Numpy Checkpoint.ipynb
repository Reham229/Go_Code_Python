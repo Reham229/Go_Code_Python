{
 "cells": [
  {
   "cell_type": "code",
   "execution_count": 8,
   "id": "dd80503c",
   "metadata": {},
   "outputs": [
    {
     "name": "stdout",
     "output_type": "stream",
     "text": [
      "[1 2 3 4 5 6]\n",
      "<class 'numpy.ndarray'>\n",
      "[1, 2, 3, 4, 5, 6]\n",
      "<class 'list'>\n"
     ]
    }
   ],
   "source": [
    "#Question 1\n",
    "import numpy as np\n",
    "array=np.array([1,2,3,4,5,6])\n",
    "print (array)\n",
    "print(type(array))\n",
    "print(array.tolist())\n",
    "print(type(array.tolist()))"
   ]
  },
  {
   "cell_type": "code",
   "execution_count": 18,
   "id": "1ed237a9",
   "metadata": {},
   "outputs": [
    {
     "name": "stdout",
     "output_type": "stream",
     "text": [
      "[[1 0 0 0]\n",
      " [0 1 0 0]\n",
      " [0 0 1 0]]\n",
      "3\n",
      "[[1 0 0 0]\n",
      " [0 1 0 0]\n",
      " [0 0 1 0]]\n",
      "3\n"
     ]
    }
   ],
   "source": [
    "#Question 2\n",
    "array=np.eye(3,4,dtype=int)\n",
    "print(array)\n",
    "print(array[0,0]+array[1,1]+array[2,2]) #manual way\n",
    "print(array)\n",
    "new_array=np.trace(array) #using trace function\n",
    "print(new_array)"
   ]
  },
  {
   "cell_type": "code",
   "execution_count": 88,
   "id": "cad43ec6",
   "metadata": {},
   "outputs": [
    {
     "name": "stdout",
     "output_type": "stream",
     "text": [
      "[3 4]\n"
     ]
    }
   ],
   "source": [
    "#Question 3\n",
    "a = np.array([[1,2],[3,4]])\n",
    "b = a>2\n",
    "print(a[b])"
   ]
  },
  {
   "cell_type": "code",
   "execution_count": 32,
   "id": "efda5a06",
   "metadata": {},
   "outputs": [
    {
     "name": "stdout",
     "output_type": "stream",
     "text": [
      "[4 6]\n"
     ]
    }
   ],
   "source": [
    "#Question 4\n",
    "a=np.array([1,2])\n",
    "b=np.array([3,4])\n",
    "c=a+b\n",
    "print(c)"
   ]
  },
  {
   "cell_type": "code",
   "execution_count": 71,
   "id": "582ebbdf",
   "metadata": {},
   "outputs": [
    {
     "name": "stdout",
     "output_type": "stream",
     "text": [
      "[[1 2]\n",
      " [3 4]\n",
      " [5 6]]\n",
      "[3. 4.]\n"
     ]
    }
   ],
   "source": [
    "#Question 5\n",
    "a=np.array([[1,2],[3,4],[5,6]])\n",
    "a.reshape(2,3)\n",
    "print(a)\n",
    "b=np.mean(a,axis=0)\n",
    "print(b)\n",
    "c=a-b"
   ]
  },
  {
   "cell_type": "code",
   "execution_count": null,
   "id": "ce8e1da4",
   "metadata": {},
   "outputs": [],
   "source": []
  }
 ],
 "metadata": {
  "kernelspec": {
   "display_name": "Python 3 (ipykernel)",
   "language": "python",
   "name": "python3"
  },
  "language_info": {
   "codemirror_mode": {
    "name": "ipython",
    "version": 3
   },
   "file_extension": ".py",
   "mimetype": "text/x-python",
   "name": "python",
   "nbconvert_exporter": "python",
   "pygments_lexer": "ipython3",
   "version": "3.9.13"
  }
 },
 "nbformat": 4,
 "nbformat_minor": 5
}
