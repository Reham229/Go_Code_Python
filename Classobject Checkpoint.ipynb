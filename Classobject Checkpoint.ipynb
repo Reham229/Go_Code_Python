{
 "cells": [
  {
   "cell_type": "code",
   "execution_count": 4,
   "id": "a687d016",
   "metadata": {},
   "outputs": [
    {
     "data": {
      "text/plain": [
       "(1, 2, 3)"
      ]
     },
     "execution_count": 4,
     "metadata": {},
     "output_type": "execute_result"
    }
   ],
   "source": [
    "#Question 1\n",
    "class Point3D():\n",
    "    def __init__(self,x,y,z):\n",
    "        self.x=x\n",
    "        self.y=y\n",
    "        self.z=z\n",
    "    def func(self):\n",
    "        return (self.x,self.y,self.z)\n",
    "    \n",
    "my_point= Point3D(1,2,3)\n",
    "my_point.func()"
   ]
  },
  {
   "cell_type": "code",
   "execution_count": 7,
   "id": "3dc28898",
   "metadata": {},
   "outputs": [
    {
     "name": "stdout",
     "output_type": "stream",
     "text": [
      "12\n",
      "14\n"
     ]
    }
   ],
   "source": [
    "#Question 2\n",
    "class rectangle():\n",
    "    def __init__(self,length,width):\n",
    "        self.length=length\n",
    "        self.width=width\n",
    "    def area(self):\n",
    "        return(self.length*self.width)\n",
    "    def perimeter(self):\n",
    "        return(2*(self.length+self.width))\n",
    "my_rectangle = rectangle(3,4)\n",
    "\n",
    "print(my_rectangle.area())\n",
    "print(my_rectangle.perimeter())\n"
   ]
  },
  {
   "cell_type": "code",
   "execution_count": 9,
   "id": "d245e991",
   "metadata": {},
   "outputs": [
    {
     "name": "stdout",
     "output_type": "stream",
     "text": [
      "12\n",
      "24\n"
     ]
    }
   ],
   "source": [
    "#Question 2(cont'd)\n",
    "class rectangle():\n",
    "    def __init__(self,length,width):\n",
    "        self.length=length\n",
    "        self.width=width\n",
    "        self.area= length*width\n",
    "        self.perimeter= 2*length*width\n",
    "my_rectangle = rectangle(3,4)\n",
    "\n",
    "print(my_rectangle.area)\n",
    "print(my_rectangle.perimeter)"
   ]
  },
  {
   "cell_type": "code",
   "execution_count": 20,
   "id": "8e9f0524",
   "metadata": {},
   "outputs": [
    {
     "name": "stdout",
     "output_type": "stream",
     "text": [
      "18\n",
      "28\n"
     ]
    }
   ],
   "source": [
    "#Question 3\n",
    "class circle():\n",
    "    def __init__(self,r,O):\n",
    "        self.r=r\n",
    "        self.O=O\n",
    "    def perimeter(self):\n",
    "        return(2*3.14*self.r)\n",
    "    def area(self):\n",
    "        return(3.14*self.r**2)\n",
    "            \n",
    "my_circle = circle(3,4)\n",
    "\n",
    "print(int(my_circle.perimeter()))\n",
    "print(int(my_circle.area()))\n",
    "#I've defined the area and perimeter however I'm not sure what to do for this part: \n",
    "#which allows you to test whether a point A(x, y) belongs to the circle C(O, r) or not."
   ]
  },
  {
   "cell_type": "code",
   "execution_count": 26,
   "id": "92ac134f",
   "metadata": {},
   "outputs": [
    {
     "name": "stdout",
     "output_type": "stream",
     "text": [
      "1100\n",
      "900\n"
     ]
    }
   ],
   "source": [
    "#Question 4\n",
    "class Bank():\n",
    "    def __init__(self,balance,amount):\n",
    "        self.balance=balance\n",
    "        self.amount=amount\n",
    "    def deposit(self):\n",
    "        return(self.balance + self.amount)\n",
    "    def withdraw(self):\n",
    "        return(self.balance - self.amount)\n",
    "        \n",
    "my_account=Bank(1000,100)\n",
    "print(my_account.deposit())\n",
    "print(my_account.withdraw())"
   ]
  },
  {
   "cell_type": "code",
   "execution_count": null,
   "id": "1b76557c",
   "metadata": {},
   "outputs": [],
   "source": []
  }
 ],
 "metadata": {
  "kernelspec": {
   "display_name": "Python 3 (ipykernel)",
   "language": "python",
   "name": "python3"
  },
  "language_info": {
   "codemirror_mode": {
    "name": "ipython",
    "version": 3
   },
   "file_extension": ".py",
   "mimetype": "text/x-python",
   "name": "python",
   "nbconvert_exporter": "python",
   "pygments_lexer": "ipython3",
   "version": "3.9.13"
  }
 },
 "nbformat": 4,
 "nbformat_minor": 5
}
