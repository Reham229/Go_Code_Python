{
 "cells": [
  {
   "cell_type": "code",
   "execution_count": 4,
   "id": "e35565fd",
   "metadata": {},
   "outputs": [
    {
     "name": "stdout",
     "output_type": "stream",
     "text": [
      "False\n",
      "True\n"
     ]
    }
   ],
   "source": [
    "#Question 1\n",
    "def binary_search(sequence, item):\n",
    "    begin_index = 0\n",
    "    end_index = len(sequence) - 1\n",
    "\n",
    "    while begin_index <= end_index:\n",
    "        midpoint = begin_index + (end_index - begin_index) // 2\n",
    "        midpoint_value = sequence[midpoint]\n",
    "        if midpoint_value == item:\n",
    "            return \"True\"\n",
    "\n",
    "        elif item < midpoint_value:\n",
    "            end_index = midpoint - 1\n",
    "\n",
    "        else:\n",
    "            begin_index = midpoint + 1\n",
    "\n",
    "    return \"False\"\n",
    "\n",
    "print(binary_search([1,2,3,5,8], 6))\n",
    "print(binary_search([1,2,3,5,8], 5))\n"
   ]
  },
  {
   "cell_type": "code",
   "execution_count": 11,
   "id": "902cc80e",
   "metadata": {},
   "outputs": [
    {
     "name": "stdout",
     "output_type": "stream",
     "text": [
      "81\n"
     ]
    }
   ],
   "source": [
    "#Question 2\n",
    "\n",
    "def power(a,b):\n",
    "    if b==0:\n",
    "        return 1\n",
    "    else:\n",
    "        return a**b\n",
    "print(power(3,4))"
   ]
  },
  {
   "cell_type": "code",
   "execution_count": 5,
   "id": "91dc1bbc",
   "metadata": {},
   "outputs": [
    {
     "name": "stdout",
     "output_type": "stream",
     "text": [
      "[13, 22, 29, 37, 46, 49, 52, 56, 71]\n"
     ]
    }
   ],
   "source": [
    "#Question 3\n",
    "def bubble(list_a):\n",
    "    indexing_length = len(list_a) - 1 \n",
    "    sorted = False \n",
    "\n",
    "    while not sorted:  \n",
    "        sorted = True  \n",
    "\n",
    "        for i in range(0, indexing_length): \n",
    "            if list_a[i] > list_a[i+1]: \n",
    "                sorted = False \n",
    "                list_a[i], list_a[i+1] = list_a[i+1], list_a[i] \n",
    "    return list_a \n",
    "\n",
    "\n",
    "print(bubble([29,13,22,37,52,49,46,71,56]))"
   ]
  },
  {
   "cell_type": "code",
   "execution_count": 7,
   "id": "f3d5792a",
   "metadata": {},
   "outputs": [
    {
     "name": "stdout",
     "output_type": "stream",
     "text": [
      "[13, 22, 29, 37, 46, 49, 52, 56, 71]\n"
     ]
    }
   ],
   "source": [
    "#Question 4\n",
    "def mergeSort(myList):\n",
    "    if len(myList) > 1:\n",
    "        mid = len(myList) // 2\n",
    "        left = myList[:mid]\n",
    "        right = myList[mid:]\n",
    "        mergeSort(left)\n",
    "        mergeSort(right)\n",
    "        i = 0\n",
    "        j = 0\n",
    "        k = 0\n",
    "        \n",
    "        while i < len(left) and j < len(right):\n",
    "            if left[i] < right[j]:\n",
    "                myList[k] = left[i]\n",
    "                i += 1\n",
    "            else:\n",
    "                myList[k] = right[j]\n",
    "                j += 1\n",
    "            k += 1\n",
    "            \n",
    "        while i < len(left):\n",
    "            myList[k] = left[i]\n",
    "            i += 1\n",
    "            k += 1\n",
    "\n",
    "        while j < len(right):\n",
    "            myList[k]=right[j]\n",
    "            j += 1\n",
    "            k += 1\n",
    "\n",
    "myList = [29,13,22,37,52,49,46,71,56]\n",
    "mergeSort(myList)\n",
    "print(myList)\n"
   ]
  },
  {
   "cell_type": "code",
   "execution_count": 8,
   "id": "b32898cc",
   "metadata": {},
   "outputs": [
    {
     "name": "stdout",
     "output_type": "stream",
     "text": [
      "[13, 22, 29, 37, 46, 49, 52, 56, 71]\n"
     ]
    }
   ],
   "source": [
    "#Question 5\n",
    "def quick_sort(sequence):\n",
    "    length = len(sequence)\n",
    "    if length <= 1:\n",
    "        return sequence\n",
    "    else:\n",
    "        pivot = sequence.pop()\n",
    "\n",
    "    items_greater = []\n",
    "    items_lower = []\n",
    "\n",
    "    for item in sequence:\n",
    "        if item > pivot:\n",
    "            items_greater.append(item)\n",
    "\n",
    "        else:\n",
    "            items_lower.append(item)\n",
    "\n",
    "    return quick_sort(items_lower) + [pivot] + quick_sort(items_greater)\n",
    "\n",
    "print(quick_sort([29,13,22,37,52,49,46,71,56]))"
   ]
  },
  {
   "cell_type": "code",
   "execution_count": null,
   "id": "9e255f45",
   "metadata": {},
   "outputs": [],
   "source": []
  }
 ],
 "metadata": {
  "kernelspec": {
   "display_name": "Python 3 (ipykernel)",
   "language": "python",
   "name": "python3"
  },
  "language_info": {
   "codemirror_mode": {
    "name": "ipython",
    "version": 3
   },
   "file_extension": ".py",
   "mimetype": "text/x-python",
   "name": "python",
   "nbconvert_exporter": "python",
   "pygments_lexer": "ipython3",
   "version": "3.9.13"
  }
 },
 "nbformat": 4,
 "nbformat_minor": 5
}
