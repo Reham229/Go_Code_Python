{
 "cells": [
  {
   "cell_type": "code",
   "execution_count": 5,
   "id": "2b6a0018",
   "metadata": {},
   "outputs": [
    {
     "ename": "SyntaxError",
     "evalue": "invalid character '‘' (U+2018) (2281033673.py, line 13)",
     "output_type": "error",
     "traceback": [
      "\u001b[1;36m  File \u001b[1;32m\"C:\\Users\\Mega Store\\AppData\\Local\\Temp\\ipykernel_15028\\2281033673.py\"\u001b[1;36m, line \u001b[1;32m13\u001b[0m\n\u001b[1;33m    end = ‘\\r’\u001b[0m\n\u001b[1;37m          ^\u001b[0m\n\u001b[1;31mSyntaxError\u001b[0m\u001b[1;31m:\u001b[0m invalid character '‘' (U+2018)\n"
     ]
    }
   ],
   "source": [
    "import time\n",
    "\n",
    "\n",
    "def countdown(t):\n",
    "    print(\"Enter length of countdown in seconds:\")\n",
    "    t = input()\n",
    "    print (int(t))\n",
    "        \n",
    "while t > 0:\n",
    "    countdown(t-1)\n",
    "else:\n",
    "    print(\"Fire in the hole\")  \n",
    "end = ‘\\r’\n",
    "\n",
    "time.sleep(1)\n",
    "   \n",
    "    \n",
    "\n",
    "#Need further explanation of how to use the divmod() here, in addition not sure what end = ‘\\r’ does exactly\n",
    "\n"
   ]
  },
  {
   "cell_type": "code",
   "execution_count": null,
   "id": "78725a47",
   "metadata": {},
   "outputs": [],
   "source": []
  }
 ],
 "metadata": {
  "kernelspec": {
   "display_name": "Python 3 (ipykernel)",
   "language": "python",
   "name": "python3"
  },
  "language_info": {
   "codemirror_mode": {
    "name": "ipython",
    "version": 3
   },
   "file_extension": ".py",
   "mimetype": "text/x-python",
   "name": "python",
   "nbconvert_exporter": "python",
   "pygments_lexer": "ipython3",
   "version": "3.9.13"
  }
 },
 "nbformat": 4,
 "nbformat_minor": 5
}
