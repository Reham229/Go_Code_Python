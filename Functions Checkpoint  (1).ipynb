{
 "cells": [
  {
   "cell_type": "code",
   "execution_count": 2,
   "id": "a28ce537",
   "metadata": {},
   "outputs": [
    {
     "data": {
      "text/plain": [
       "35"
      ]
     },
     "execution_count": 2,
     "metadata": {},
     "output_type": "execute_result"
    }
   ],
   "source": [
    "#Question 1\n",
    "def max(a,b,c):\n",
    "    if a>b:\n",
    "        return a\n",
    "    elif b>c:\n",
    "        return b\n",
    "    else:\n",
    "        return c\n",
    "max(20, 35, 19)\n"
   ]
  },
  {
   "cell_type": "code",
   "execution_count": 6,
   "id": "6b976046",
   "metadata": {},
   "outputs": [
    {
     "data": {
      "text/plain": [
       "(50, 30)"
      ]
     },
     "execution_count": 6,
     "metadata": {},
     "output_type": "execute_result"
    }
   ],
   "source": [
    "#Question 2\n",
    "def calculation(a,b):\n",
    "    return(a+b,a-b)\n",
    "calculation(40,10)"
   ]
  },
  {
   "cell_type": "code",
   "execution_count": 27,
   "id": "bbfbaabc",
   "metadata": {},
   "outputs": [
    {
     "name": "stdout",
     "output_type": "stream",
     "text": [
      "8\n",
      "32\n"
     ]
    }
   ],
   "source": [
    "#Question 3\n",
    "def sum(a):\n",
    "    result =0\n",
    "    for x in a:\n",
    "        if a.index(x) % 2 == 0:\n",
    "            result=result+x\n",
    "    return (result)\n",
    "\n",
    "def multiply(a):\n",
    "    result =1\n",
    "    for x in a:\n",
    "        if a.index(x) % 2 != 0:\n",
    "            result=result*x\n",
    "    return (result)\n",
    "\n",
    "a=[2,4,6,8]\n",
    "\n",
    "print (sum(a))\n",
    "print (multiply(a))"
   ]
  },
  {
   "cell_type": "code",
   "execution_count": 47,
   "id": "225cf54d",
   "metadata": {},
   "outputs": [
    {
     "name": "stdout",
     "output_type": "stream",
     "text": [
      "['black', 'green', 'red', 'white', 'yellow']\n"
     ]
    }
   ],
   "source": [
    "#Question 4\n",
    "string = \"green-red-yellow-black-white\"\n",
    "result = string.split(\"-\")\n",
    "result.sort()\n",
    "print (result)"
   ]
  },
  {
   "cell_type": "code",
   "execution_count": 83,
   "id": "490b9b29",
   "metadata": {},
   "outputs": [
    {
     "name": "stdout",
     "output_type": "stream",
     "text": [
      "[18, 22, 24]\n"
     ]
    }
   ],
   "source": [
    "#Question 5 (Bonus)\n",
    "a=[100,150,180]\n",
    "result = [int(math.sqrt((2 * 50 * D)/30)) for D in a]\n",
    "print (result)"
   ]
  },
  {
   "cell_type": "code",
   "execution_count": null,
   "id": "983b400a",
   "metadata": {},
   "outputs": [],
   "source": []
  }
 ],
 "metadata": {
  "kernelspec": {
   "display_name": "Python 3 (ipykernel)",
   "language": "python",
   "name": "python3"
  },
  "language_info": {
   "codemirror_mode": {
    "name": "ipython",
    "version": 3
   },
   "file_extension": ".py",
   "mimetype": "text/x-python",
   "name": "python",
   "nbconvert_exporter": "python",
   "pygments_lexer": "ipython3",
   "version": "3.9.13"
  }
 },
 "nbformat": 4,
 "nbformat_minor": 5
}
