{
 "cells": [
  {
   "cell_type": "code",
   "execution_count": 1,
   "id": "d92bbb44",
   "metadata": {},
   "outputs": [
    {
     "name": "stdout",
     "output_type": "stream",
     "text": [
      "Amin Reham\n"
     ]
    }
   ],
   "source": [
    "#Question 1\n",
    "first = \"Reham\"\n",
    "last = \"Amin\"\n",
    "print(last + \" \" + first)"
   ]
  },
  {
   "cell_type": "code",
   "execution_count": 2,
   "id": "e0a2cfef",
   "metadata": {},
   "outputs": [
    {
     "name": "stdout",
     "output_type": "stream",
     "text": [
      "615\n"
     ]
    }
   ],
   "source": [
    "#Question 2\n",
    "n=5\n",
    "result = n + n*11 + n*111\n",
    "print (result)"
   ]
  },
  {
   "cell_type": "code",
   "execution_count": 5,
   "id": "6db998ab",
   "metadata": {},
   "outputs": [
    {
     "name": "stdout",
     "output_type": "stream",
     "text": [
      "n is odd\n"
     ]
    }
   ],
   "source": [
    "#Question 3\n",
    "n = 17\n",
    "x = n % 2\n",
    "if x == 0:\n",
    "    print ('n is even')\n",
    "else:\n",
    "        print ('n is odd')"
   ]
  },
  {
   "cell_type": "code",
   "execution_count": 12,
   "id": "8093d86c",
   "metadata": {},
   "outputs": [
    {
     "name": "stdout",
     "output_type": "stream",
     "text": [
      "2002 2009 2016 2023 2037 2044 2051 2058 2072 2079 2086 2093 2107 2114 2121 2128 2142 2149 2156 2163 2177 2184 2191 2198 2212 2219 2226 2233 2247 2254 2261 2268 2282 2289 2296 2303 2317 2324 2331 2338 2352 2359 2366 2373 2387 2394 2401 2408 2422 2429 2436 2443 2457 2464 2471 2478 2492 2499 2506 2513 2527 2534 2541 2548 2562 2569 2576 2583 2597 2604 2611 2618 2632 2639 2646 2653 2667 2674 2681 2688 2702 2709 2716 2723 2737 2744 2751 2758 2772 2779 2786 2793 2807 2814 2821 2828 2842 2849 2856 2863 2877 2884 2891 2898 2912 2919 2926 2933 2947 2954 2961 2968 2982 2989 2996 3003 3017 3024 3031 3038 3052 3059 3066 3073 3087 3094 3101 3108 3122 3129 3136 3143 3157 3164 3171 3178 3192 3199 "
     ]
    }
   ],
   "source": [
    "#Question 4\n",
    "i = range(2000, 3201)\n",
    "for n in i:\n",
    "    x = n % 7\n",
    "    y = n % 5\n",
    "    if x == 0 and y != 0:\n",
    "        print (n, end = \" \")"
   ]
  },
  {
   "cell_type": "code",
   "execution_count": 26,
   "id": "6b1f09f6",
   "metadata": {},
   "outputs": [
    {
     "name": "stdout",
     "output_type": "stream",
     "text": [
      "40320 "
     ]
    }
   ],
   "source": [
    "#Question 5\n",
    "x = 9\n",
    "n = 1\n",
    "for i in range (1,x):\n",
    "    n = n * i\n",
    "    if i == 8:\n",
    "        print (n, end = \" \")"
   ]
  },
  {
   "cell_type": "code",
   "execution_count": 37,
   "id": "7029f25d",
   "metadata": {},
   "outputs": [
    {
     "name": "stdout",
     "output_type": "stream",
     "text": [
      "hlota"
     ]
    }
   ],
   "source": [
    "#Question 6\n",
    "l = \"hello team\"\n",
    "for i in range (len(l)):\n",
    "    if i % 2 == 0:\n",
    "        print (l[i], end = \"\")"
   ]
  },
  {
   "cell_type": "code",
   "execution_count": 50,
   "id": "c9ca3622",
   "metadata": {},
   "outputs": [
    {
     "name": "stdout",
     "output_type": "stream",
     "text": [
      "75.0\n"
     ]
    }
   ],
   "source": [
    "#Question 7\n",
    "i = 250\n",
    "h = i * 0.5\n",
    "o = i * 0.3\n",
    "p = i * 0.1\n",
    "if i >= 500:\n",
    "        print (h)\n",
    "elif 200 < i < 500:\n",
    "        print (o)\n",
    "elif i <= 200:\n",
    "        print (p)\n",
    "else:\n",
    "        print (\"N/a\")\n",
    "        "
   ]
  },
  {
   "cell_type": "code",
   "execution_count": null,
   "id": "9c1ec93e",
   "metadata": {},
   "outputs": [],
   "source": []
  }
 ],
 "metadata": {
  "kernelspec": {
   "display_name": "Python 3",
   "language": "python",
   "name": "python3"
  },
  "language_info": {
   "codemirror_mode": {
    "name": "ipython",
    "version": 3
   },
   "file_extension": ".py",
   "mimetype": "text/x-python",
   "name": "python",
   "nbconvert_exporter": "python",
   "pygments_lexer": "ipython3",
   "version": "3.8.8"
  }
 },
 "nbformat": 4,
 "nbformat_minor": 5
}
