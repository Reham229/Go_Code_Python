{
 "cells": [
  {
   "cell_type": "code",
   "execution_count": 10,
   "id": "2f8e7a0a",
   "metadata": {},
   "outputs": [
    {
     "name": "stdout",
     "output_type": "stream",
     "text": [
      "1756920\n",
      "120\n"
     ]
    }
   ],
   "source": [
    "#Question 1\n",
    "\n",
    "def multiply(mylist):\n",
    "    result = 1\n",
    "    for x in mylist:\n",
    "        result = result*x\n",
    "    return result                \n",
    "list1= [22,33,44,55]\n",
    "list2= [1,2,3,4,5]\n",
    "print(multiply(list1))\n",
    "print(multiply(list2))        "
   ]
  },
  {
   "cell_type": "code",
   "execution_count": 11,
   "id": "6477b2b6",
   "metadata": {},
   "outputs": [
    {
     "name": "stdout",
     "output_type": "stream",
     "text": [
      "1756920\n",
      "120\n"
     ]
    }
   ],
   "source": [
    "import numpy\n",
    "list1 = [22,33,44,55]\n",
    "list2 = [1,2,3,4,5]\n",
    "\n",
    "result1= numpy.prod(list1)\n",
    "result2= numpy.prod(list2)\n",
    "\n",
    "print (result1)\n",
    "print(result2)"
   ]
  },
  {
   "cell_type": "code",
   "execution_count": 12,
   "id": "4f38d9cb",
   "metadata": {},
   "outputs": [
    {
     "name": "stdout",
     "output_type": "stream",
     "text": [
      "6\n"
     ]
    }
   ],
   "source": [
    "x = lambda a,b,c: a*b*c\n",
    "print(x(1,2,3))"
   ]
  },
  {
   "cell_type": "code",
   "execution_count": 5,
   "id": "23a21705",
   "metadata": {},
   "outputs": [
    {
     "name": "stdout",
     "output_type": "stream",
     "text": [
      "5 * 5 = 25\n",
      "25\n"
     ]
    }
   ],
   "source": [
    "def my_add(a, b):\n",
    "    result = a * b\n",
    "    print(f\"{a} * {b} = {result}\")\n",
    "    return result\n",
    "print(my_add(5,5))"
   ]
  },
  {
   "cell_type": "code",
   "execution_count": 6,
   "id": "c007cd4d",
   "metadata": {
    "scrolled": true
   },
   "outputs": [
    {
     "data": {
      "text/plain": [
       "1756920"
      ]
     },
     "execution_count": 6,
     "metadata": {},
     "output_type": "execute_result"
    }
   ],
   "source": [
    "from functools import reduce\n",
    "list1= [22,33,44,55]\n",
    "reduce(lambda a,b: a*b, list1)"
   ]
  },
  {
   "cell_type": "code",
   "execution_count": 7,
   "id": "7f641e2d",
   "metadata": {},
   "outputs": [
    {
     "data": {
      "text/plain": [
       "1756920"
      ]
     },
     "execution_count": 7,
     "metadata": {},
     "output_type": "execute_result"
    }
   ],
   "source": [
    "from operator import mul\n",
    "from functools import reduce\n",
    "list1= [22,33,44,55]\n",
    "reduce(mul,list1)"
   ]
  },
  {
   "cell_type": "code",
   "execution_count": 8,
   "id": "02e0d3e0",
   "metadata": {},
   "outputs": [
    {
     "name": "stdout",
     "output_type": "stream",
     "text": [
      "1756920\n"
     ]
    }
   ],
   "source": [
    "import math\n",
    "list1= [22,33,44,55]\n",
    "result = math.prod(list1)\n",
    "print(result)"
   ]
  },
  {
   "cell_type": "code",
   "execution_count": 21,
   "id": "878f5ccf",
   "metadata": {},
   "outputs": [
    {
     "data": {
      "text/plain": [
       "[('dave', 'B', 10), ('jane', 'B', 12), ('john', 'A', 15)]"
      ]
     },
     "execution_count": 21,
     "metadata": {},
     "output_type": "execute_result"
    }
   ],
   "source": [
    "#Question 2\n",
    "\n",
    "student_tuples = [\n",
    "   ('john', 'A', 15),\n",
    "   ('jane', 'B', 12),\n",
    "   ('dave', 'B', 10),\n",
    " ]\n",
    "sorted(student_tuples, key=lambda student: student[2])   # sort by age"
   ]
  },
  {
   "cell_type": "code",
   "execution_count": 36,
   "id": "7b70b35e",
   "metadata": {},
   "outputs": [
    {
     "name": "stdout",
     "output_type": "stream",
     "text": [
      "{'a': 400, 'b': 400, 'c': 300, 'd': 400, 'e': 800}\n"
     ]
    }
   ],
   "source": [
    "#Question 3\n",
    "\n",
    "d1 = {'a': 100, 'b': 200, 'c':300,\"L\":400}\n",
    "d2 = {'a': 300, 'b': 200, 'd':400,\"e\":800}\n",
    "d3 = {}\n",
    "\n",
    "for key in d1:\n",
    "    if key in d2:\n",
    "        d3[key]= d1[key] + d2[key]\n",
    "    else:\n",
    "        d3[key]= d1[key]\n",
    "        \n",
    "for key in d2:\n",
    "    if key not in d1:\n",
    "        d3[key] = d2[key]\n",
    "print (d3)\n"
   ]
  },
  {
   "cell_type": "code",
   "execution_count": 67,
   "id": "b183e0b4",
   "metadata": {},
   "outputs": [
    {
     "name": "stdout",
     "output_type": "stream",
     "text": [
      "{1: 1}\n",
      "{1: 1, 2: 4}\n",
      "{1: 1, 2: 4, 3: 9}\n",
      "{1: 1, 2: 4, 3: 9, 4: 16}\n",
      "{1: 1, 2: 4, 3: 9, 4: 16, 5: 25}\n",
      "{1: 1, 2: 4, 3: 9, 4: 16, 5: 25, 6: 36}\n",
      "{1: 1, 2: 4, 3: 9, 4: 16, 5: 25, 6: 36, 7: 49}\n",
      "{1: 1, 2: 4, 3: 9, 4: 16, 5: 25, 6: 36, 7: 49, 8: 64}\n"
     ]
    }
   ],
   "source": [
    "#Question 4\n",
    "\n",
    "d= {}\n",
    "\n",
    "n = 8\n",
    "for i in range (1,n+1):\n",
    "    d[i]= i*i\n",
    "    print(d)\n"
   ]
  },
  {
   "cell_type": "code",
   "execution_count": 63,
   "id": "e8f7338a",
   "metadata": {},
   "outputs": [
    {
     "data": {
      "text/plain": [
       "[('item3', 24.5),\n",
       " ('item2', 15.1),\n",
       " ('item1', 12.2),\n",
       " ('item5', 4.5),\n",
       " ('item4', 2.5),\n",
       " ('item6', 0.5)]"
      ]
     },
     "execution_count": 63,
     "metadata": {},
     "output_type": "execute_result"
    }
   ],
   "source": [
    "#Question 5\n",
    "\n",
    "list= [('item1', 12.20), ('item2', 15.10), ('item3', 24.5), ('item4', 2.5),('item5', 4.5),('item6', 0.5)]\n",
    "\n",
    "sorted(list,key=lambda flt: flt[1], reverse= True)"
   ]
  },
  {
   "cell_type": "code",
   "execution_count": null,
   "id": "c759b904",
   "metadata": {},
   "outputs": [],
   "source": []
  }
 ],
 "metadata": {
  "kernelspec": {
   "display_name": "Python 3",
   "language": "python",
   "name": "python3"
  },
  "language_info": {
   "codemirror_mode": {
    "name": "ipython",
    "version": 3
   },
   "file_extension": ".py",
   "mimetype": "text/x-python",
   "name": "python",
   "nbconvert_exporter": "python",
   "pygments_lexer": "ipython3",
   "version": "3.8.8"
  }
 },
 "nbformat": 4,
 "nbformat_minor": 5
}
